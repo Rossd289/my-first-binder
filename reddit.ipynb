reddit = praw.Reddit(client_id=‘Hmfso5-IQxbQylg8kwBroA’,
    client_secret=‘OQspz7mPKSM5sTQIXabVf_FNFSroxA',
    redirect_uri=‘http://131.181.18.88/profile’, 
    user_agent=‘research by u/Anxious_Guidance1532’)
